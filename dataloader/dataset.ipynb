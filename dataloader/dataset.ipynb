{
 "cells": [
  {
   "cell_type": "code",
   "execution_count": 1,
   "metadata": {},
   "outputs": [],
   "source": [
    "import pickle\n",
    "import torch as t\n",
    "from torch.utils import data"
   ]
  },
  {
   "cell_type": "code",
   "execution_count": 3,
   "metadata": {},
   "outputs": [],
   "source": [
    "with open('/home/LAB/wangd/graduation_project/ranked list truncation/dataset/robust04_gt.pkl', 'rb') as f: \n",
    "    gt = pickle.load(f)"
   ]
  },
  {
   "cell_type": "code",
   "execution_count": 4,
   "metadata": {},
   "outputs": [],
   "source": [
    "DATASET_BASE = '/home/LAB/wangd/graduation_project/ranked list truncation/dataset'\n",
    "def data_prepare(dataset_name: str):\n",
    "    with open('{}/{}_train.pkl'.format(DATASET_BASE, dataset_name), 'rb') as f:\n",
    "        train_data_raw = pickle.load(f)\n",
    "    with open('{}/{}_test.pkl'.format(DATASET_BASE, dataset_name), 'rb') as f:\n",
    "        test_data_raw = pickle.load(f)\n",
    "    with open('{}/robust04_gt.pkl'.format(DATASET_BASE), 'rb') as f:\n",
    "        gt = pickle.load(f)\n",
    "        for key in gt: gt[key] = set(gt[key])\n",
    "\n",
    "    X_train, X_test, y_train, y_test = [], [], [], []\n",
    "    for key in train_data_raw:\n",
    "        scores = list(train_data_raw[key].values())\n",
    "        is_rel = list(map(lambda x: 1 if x in gt[key] else 0, train_data_raw[key].keys()))\n",
    "        X_train.append(scores)\n",
    "        y_train.append(is_rel)\n",
    "    for key in test_data_raw:\n",
    "        scores = list(test_data_raw[key].values())\n",
    "        is_rel = list(map(lambda x: 1 if x in gt[key] else 0, test_data_raw[key].keys()))\n",
    "        X_test.append(scores)\n",
    "        y_test.append(is_rel)\n",
    "\n",
    "    X_train, X_test = t.unsqueeze(t.Tensor(X_train), dim=1).permute(0, 2, 1), t.unsqueeze(t.Tensor(X_test), dim=1).permute(0, 2, 1)\n",
    "    y_train, y_test = t.Tensor(y_train), t.Tensor(y_test)\n",
    "    \n",
    "    d00, d01, _ = X_train.shape\n",
    "    d10, d11, _ = X_test.shape\n",
    "    position_embedding_train, position_embedding_test = t.randn(d00, d01, 127), t.randn(d10, d11, 127)\n",
    "    X_train = t.cat((X_train, position_embedding_train), dim=2)\n",
    "    X_test = t.cat((X_test, position_embedding_test), dim=2)\n",
    "\n",
    "    return X_train, X_test, y_train, y_test"
   ]
  },
  {
   "cell_type": "code",
   "execution_count": 5,
   "metadata": {},
   "outputs": [],
   "source": [
    "xtr, xte, ytr, yte = data_prepare('drmm_tks_s1')"
   ]
  },
  {
   "cell_type": "code",
   "execution_count": 6,
   "metadata": {},
   "outputs": [
    {
     "data": {
      "text/plain": [
       "torch.Size([194, 300, 128])"
      ]
     },
     "execution_count": 6,
     "metadata": {},
     "output_type": "execute_result"
    }
   ],
   "source": [
    "xtr.shape"
   ]
  },
  {
   "cell_type": "code",
   "execution_count": 11,
   "metadata": {},
   "outputs": [
    {
     "data": {
      "text/plain": [
       "tensor([ 8.8141, -0.3287, -0.1865, -1.9727,  1.0374])"
      ]
     },
     "execution_count": 11,
     "metadata": {},
     "output_type": "execute_result"
    }
   ],
   "source": [
    "xtr[0][0][:5]\n"
   ]
  },
  {
   "cell_type": "code",
   "execution_count": 12,
   "metadata": {},
   "outputs": [
    {
     "data": {
      "text/plain": [
       "tensor([ 8.4056, -0.5739,  0.3004, -0.8791,  0.6017])"
      ]
     },
     "execution_count": 12,
     "metadata": {},
     "output_type": "execute_result"
    }
   ],
   "source": [
    "xtr[0][1][:5]"
   ]
  },
  {
   "cell_type": "code",
   "execution_count": 13,
   "metadata": {},
   "outputs": [
    {
     "data": {
      "text/plain": [
       "tensor([ 7.6534,  1.2669, -0.1602, -0.2902, -0.2273])"
      ]
     },
     "execution_count": 13,
     "metadata": {},
     "output_type": "execute_result"
    }
   ],
   "source": [
    "xtr[0][2][:5]"
   ]
  },
  {
   "cell_type": "code",
   "execution_count": 14,
   "metadata": {},
   "outputs": [],
   "source": [
    "dataset_name = 'drmm_tks_s1'\n",
    "with open('{}/{}_train.pkl'.format(DATASET_BASE, dataset_name), 'rb') as f:\n",
    "    train_data_raw = pickle.load(f)\n",
    "with open('{}/{}_test.pkl'.format(DATASET_BASE, dataset_name), 'rb') as f:\n",
    "    test_data_raw = pickle.load(f)"
   ]
  },
  {
   "cell_type": "code",
   "execution_count": 22,
   "metadata": {},
   "outputs": [
    {
     "name": "stdout",
     "output_type": "stream",
     "text": [
      "True\n",
      "True\n",
      "True\n",
      "True\n",
      "True\n"
     ]
    }
   ],
   "source": [
    "for item in list(train_data_raw['337'].keys())[:5]:\n",
    "    print(item in gt['337'])"
   ]
  },
  {
   "cell_type": "code",
   "execution_count": 18,
   "metadata": {},
   "outputs": [
    {
     "data": {
      "text/plain": [
       "[8.814115524291992,\n",
       " 8.405571937561035,\n",
       " 7.653446197509766,\n",
       " 7.354440689086914,\n",
       " 7.292997360229492]"
      ]
     },
     "execution_count": 18,
     "metadata": {},
     "output_type": "execute_result"
    }
   ],
   "source": [
    "list(train_data_raw['337'].values())[:5]"
   ]
  },
  {
   "cell_type": "code",
   "execution_count": null,
   "metadata": {},
   "outputs": [],
   "source": []
  }
 ],
 "metadata": {
  "kernelspec": {
   "display_name": "Python [conda env:ML] *",
   "language": "python",
   "name": "conda-env-ML-py"
  },
  "language_info": {},
  "orig_nbformat": 2
 },
 "nbformat": 4,
 "nbformat_minor": 2
}