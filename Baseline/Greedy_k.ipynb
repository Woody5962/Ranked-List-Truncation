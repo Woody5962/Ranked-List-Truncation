{
 "cells": [
  {
   "cell_type": "code",
   "execution_count": 28,
   "source": [
    "import math\n",
    "import pickle\n",
    "import numpy as np"
   ],
   "outputs": [],
   "metadata": {}
  },
  {
   "cell_type": "markdown",
   "source": [
    "## 工作路径"
   ],
   "metadata": {}
  },
  {
   "cell_type": "code",
   "execution_count": 29,
   "source": [
    "DATASET_BASE = '/home/LAB/wangd/graduation_project/ranked list truncation/dataset'"
   ],
   "outputs": [],
   "metadata": {}
  },
  {
   "cell_type": "markdown",
   "source": [
    "## 评估函数 "
   ],
   "metadata": {}
  },
  {
   "cell_type": "code",
   "execution_count": 30,
   "source": [
    "# 导入ground truth\n",
    "with open('{}/robust04_gt.pkl'.format(DATASET_BASE), 'rb') as f:\n",
    "    gt = pickle.load(f)\n",
    "    for key in gt: gt[key] = set(gt[key])\n",
    "len(gt['301'])"
   ],
   "outputs": [
    {
     "output_type": "execute_result",
     "data": {
      "text/plain": [
       "448"
      ]
     },
     "metadata": {},
     "execution_count": 30
    }
   ],
   "metadata": {}
  },
  {
   "cell_type": "code",
   "execution_count": 31,
   "source": [
    "def cal_F1(ranked_list: list, k: int) -> float:\n",
    "    \"\"\"\n",
    "    计算F1 score\n",
    "    k: 截断到第k个，从1计数\n",
    "    \"\"\"\n",
    "    count, N_D = sum(ranked_list[:k]), sum(ranked_list)\n",
    "    p_k = count / k\n",
    "    r_k = (count / N_D) if N_D != 0 else 0\n",
    "    return (2 * p_k * r_k / (p_k + r_k)) if p_k + r_k != 0 else 0\n",
    "\n",
    "\n",
    "def cal_DCG(ranked_list: list, k: int, penalty=-1) -> float:\n",
    "    \"\"\"\n",
    "    计算DCG\n",
    "    \"\"\"\n",
    "    value = 0\n",
    "    for i in range(k): \n",
    "        value += (1 / math.log(i + 2, 2)) if ranked_list[i] else (penalty / math.log(i + 2, 2))\n",
    "    return value"
   ],
   "outputs": [],
   "metadata": {}
  },
  {
   "cell_type": "markdown",
   "source": [
    "## Greedy-k处理流程"
   ],
   "metadata": {}
  },
  {
   "cell_type": "code",
   "execution_count": 32,
   "source": [
    "def dataset_prepare(dataset_name: str) -> list:\n",
    "    # 这里不需要train\n",
    "    with open('{}/{}_train.pkl'.format(DATASET_BASE, dataset_name), 'rb') as f:\n",
    "        train_data = pickle.load(f)\n",
    "    with open('{}/{}_test.pkl'.format(DATASET_BASE, dataset_name), 'rb') as f:\n",
    "        test_data = pickle.load(f)\n",
    "    train_rl, test_rl = {}, {}\n",
    "    for key in train_data: \n",
    "        train_rl[key] = list(map(lambda x: 1 if x in gt[key] else 0, train_data[key].keys()))\n",
    "    for key in test_data:\n",
    "        test_rl[key] = list(map(lambda x: 1 if x in gt[key] else 0, test_data[key].keys()))\n",
    "    return train_rl, test_rl\n",
    "\n",
    "\n",
    "def greedy_scores(dataset_name: str) -> float:\n",
    "    train_set, test_set = dataset_prepare(dataset_name)\n",
    "    F1_k, DCG_k = [], []\n",
    "    for key in train_set:\n",
    "        per_k_F1, per_k_DCG = [0], [0]\n",
    "        for i in range(1, 301):\n",
    "            per_k_F1.append(cal_F1(train_set[key], i))\n",
    "            per_k_DCG.append(cal_DCG(train_set[key], i))\n",
    "        F1_k.append(per_k_F1)\n",
    "        DCG_k.append(per_k_DCG)\n",
    "    \n",
    "    F1_k_mean, DCG_k_mean = np.mean(np.array(F1_k), axis=0), np.mean(np.array(DCG_k), axis=0)\n",
    "    F1_greedy, DCG_greedy = np.argmax(F1_k_mean), np.argmax(DCG_k_mean)\n",
    "\n",
    "    test_F1 = [cal_F1(test_set[key], F1_greedy) for key in test_set]\n",
    "    test_DCG = [cal_DCG(test_set[key], DCG_greedy) for key in test_set]\n",
    "    return sum(test_F1) / len(test_F1), sum(test_DCG) / len(test_DCG)\n",
    "\n"
   ],
   "outputs": [],
   "metadata": {}
  },
  {
   "cell_type": "markdown",
   "source": [
    "## Greedy-k结果"
   ],
   "metadata": {}
  },
  {
   "cell_type": "code",
   "execution_count": 33,
   "source": [
    "print('BM25 Greedy-k: {}'.format(greedy_scores('bm25')))\n",
    "print('DRMM Greedy-k: {}'.format(greedy_scores('drmm')))\n",
    "print('DRMM_TKS Greedy-k: {}'.format(greedy_scores('drmm_tks')))"
   ],
   "outputs": [
    {
     "output_type": "stream",
     "name": "stdout",
     "text": [
      "BM25 Greedy-k: (0.3039401630633967, 0.2)\n",
      "DRMM Greedy-k: (0.29970861058662285, 0.4061859507142915)\n",
      "DRMM_TKS Greedy-k: (0.6263449758542731, 7.277687488608172)\n"
     ]
    }
   ],
   "metadata": {}
  },
  {
   "cell_type": "code",
   "execution_count": null,
   "source": [],
   "outputs": [],
   "metadata": {}
  }
 ],
 "metadata": {
  "kernelspec": {
   "display_name": "Python [conda env:ML] *",
   "language": "python",
   "name": "conda-env-ML-py"
  },
  "language_info": {
   "name": "python",
   "version": "3.6.10",
   "mimetype": "text/x-python",
   "codemirror_mode": {
    "name": "ipython",
    "version": 3
   },
   "pygments_lexer": "ipython3",
   "nbconvert_exporter": "python",
   "file_extension": ".py"
  }
 },
 "nbformat": 4,
 "nbformat_minor": 2
}