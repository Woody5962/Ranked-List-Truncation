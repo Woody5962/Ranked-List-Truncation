{
 "cells": [
  {
   "cell_type": "code",
   "execution_count": 22,
   "source": [
    "import math\n",
    "import pickle\n",
    "import numpy as np"
   ],
   "outputs": [],
   "metadata": {}
  },
  {
   "cell_type": "markdown",
   "source": [
    "## 工作路径"
   ],
   "metadata": {}
  },
  {
   "cell_type": "code",
   "execution_count": 23,
   "source": [
    "DATASET_BASE = '/home/LAB/wangd/graduation_project/ranked list truncation/dataset'"
   ],
   "outputs": [],
   "metadata": {}
  },
  {
   "cell_type": "markdown",
   "source": [
    "## 评估函数"
   ],
   "metadata": {}
  },
  {
   "cell_type": "code",
   "execution_count": 24,
   "source": [
    "# 导入ground truth\n",
    "with open('{}/robust04_gt.pkl'.format(DATASET_BASE), 'rb') as f:\n",
    "    gt = pickle.load(f)\n",
    "    for key in gt: gt[key] = set(gt[key])\n",
    "len(gt['301'])"
   ],
   "outputs": [
    {
     "output_type": "execute_result",
     "data": {
      "text/plain": [
       "448"
      ]
     },
     "metadata": {},
     "execution_count": 24
    }
   ],
   "metadata": {}
  },
  {
   "cell_type": "code",
   "execution_count": 25,
   "source": [
    "def cal_F1(ranked_list: list, k: int) -> float:\n",
    "    \"\"\"\n",
    "    计算F1 score\n",
    "    k: 截断到第k个，从1计数\n",
    "    \"\"\"\n",
    "    count, N_D = sum(ranked_list[:k]), sum(ranked_list)\n",
    "    p_k = count / k\n",
    "    r_k = (count / N_D) if N_D != 0 else 0\n",
    "    return (2 * p_k * r_k / (p_k + r_k)) if p_k + r_k != 0 else 0\n",
    "\n",
    "\n",
    "def cal_DCG(ranked_list: list, k: int, penalty=-1) -> float:\n",
    "    \"\"\"\n",
    "    计算DCG\n",
    "    \"\"\"\n",
    "    value = 0\n",
    "    for i in range(k): \n",
    "        value += (1 / math.log(i + 2, 2)) if ranked_list[i] else (penalty / math.log(i + 2, 2))\n",
    "    return value"
   ],
   "outputs": [],
   "metadata": {}
  },
  {
   "cell_type": "markdown",
   "source": [
    "## Oracle的整体流程"
   ],
   "metadata": {}
  },
  {
   "cell_type": "code",
   "execution_count": 26,
   "source": [
    "def dataset_prepare(dataset_name: str) -> list:\n",
    "    # 这里不需要train\n",
    "    with open('{}/{}_test.pkl'.format(DATASET_BASE, dataset_name), 'rb') as f:\n",
    "        test_data = pickle.load(f)\n",
    "    rl_data = {}\n",
    "    for key in test_data: \n",
    "        rl_data[key] = list(map(lambda x: 1 if x in gt[key] else 0, test_data[key].keys()))\n",
    "    return rl_data\n",
    "\n",
    "def test_scores(dataset_name: str) -> float:\n",
    "    dataset = dataset_prepare(dataset_name)\n",
    "    F1_k, DCG_k = [], []\n",
    "    for key in dataset:\n",
    "        per_k_F1, per_k_DCG = [0], [0]\n",
    "        for i in range(1, 301):\n",
    "            per_k_F1.append(cal_F1(dataset[key], i))\n",
    "            per_k_DCG.append(cal_DCG(dataset[key], i))\n",
    "        F1_k.append(per_k_F1)\n",
    "        DCG_k.append(per_k_DCG)\n",
    "    F1_best, DCG_best = np.max(np.array(F1_k), axis=1), np.max(np.array(DCG_k), axis=1)\n",
    "    return np.mean(F1_best), np.mean(DCG_best)"
   ],
   "outputs": [],
   "metadata": {}
  },
  {
   "cell_type": "markdown",
   "source": [
    "## Oracle结果"
   ],
   "metadata": {}
  },
  {
   "cell_type": "code",
   "execution_count": 27,
   "source": [
    "print('BM25 Oracle: {}'.format(test_scores('bm25')))\n",
    "print('DRMM Oracle: {}'.format(test_scores('drmm')))\n",
    "print('DRMM-TKS Oracle: {}'.format(test_scores('drmm_tks')))"
   ],
   "outputs": [
    {
     "output_type": "stream",
     "name": "stdout",
     "text": [
      "BM25 Oracle: (0.44132237243494216, 1.481949106601391)\n",
      "DRMM Oracle: (0.4398188071248245, 1.751231140274798)\n",
      "DRMM-TKS Oracle: (0.854701100644778, 13.583689296206474)\n"
     ]
    }
   ],
   "metadata": {}
  },
  {
   "cell_type": "code",
   "execution_count": null,
   "source": [],
   "outputs": [],
   "metadata": {}
  },
  {
   "cell_type": "code",
   "execution_count": null,
   "source": [],
   "outputs": [],
   "metadata": {}
  }
 ],
 "metadata": {
  "kernelspec": {
   "display_name": "Python [conda env:ML] *",
   "language": "python",
   "name": "conda-env-ML-py"
  }
 },
 "nbformat": 4,
 "nbformat_minor": 2
}