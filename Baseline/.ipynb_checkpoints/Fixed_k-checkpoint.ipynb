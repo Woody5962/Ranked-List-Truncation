{
 "cells": [
  {
   "cell_type": "code",
   "execution_count": 1,
   "metadata": {},
   "outputs": [],
   "source": [
    "import math\n",
    "import pickle\n",
    "import pandas as pd\n",
    "import numpy as np\n",
    "import matplotlib.pyplot as plt"
   ]
  },
  {
   "cell_type": "markdown",
   "metadata": {},
   "source": [
    "## 评估函数 "
   ]
  },
  {
   "cell_type": "code",
   "execution_count": 2,
   "metadata": {},
   "outputs": [
    {
     "data": {
      "text/plain": [
       "448"
      ]
     },
     "execution_count": 2,
     "metadata": {},
     "output_type": "execute_result"
    }
   ],
   "source": [
    "# 导入ground truth\n",
    "with open('../data_prep/robust04_gt.pkl', 'rb') as f: gt = pickle.load(f)\n",
    "len(gt['301'])"
   ]
  },
  {
   "cell_type": "code",
   "execution_count": 3,
   "metadata": {},
   "outputs": [],
   "source": [
    "def cal_F1(ranked_list: list, query: str, k: int, N_D: int) -> float:\n",
    "    \"\"\"\n",
    "    计算F1 score\n",
    "    k: 截断到第k个，从1计数\n",
    "    \"\"\"\n",
    "    count = sum([ranked_list[i] in gt[query] for i in range(k)])\n",
    "    p_k = count / k\n",
    "    r_k = (count / N_D) if N_D != 0 else 0\n",
    "    return (2 * p_k * r_k / (p_k + r_k)) if p_k + r_k != 0 else 0\n",
    "\n",
    "\n",
    "def cal_DCG(ranked_list: list, query: str, k: int, N_D: int, penalty=-0.23, normalized=False) -> float:\n",
    "    \"\"\"\n",
    "    计算DCG\n",
    "    \"\"\"\n",
    "    value = 0\n",
    "    for i in range(k): value += (1 / math.log(i + 2, 2)) if ranked_list[i] in gt[query] else (penalty / math.log(i + 2, 2))\n",
    "    ideal_DCG = sum([1 / math.log(i + 2, 2) for i in range(k)]) if N_D >= k else sum([1 / math.log(i + 2, 2) for i in range(N_D)] + [penalty / math.log(i + 2, 2) for i in range(N_D, k)])\n",
    "    return value if not normalized else value / ideal_DCG"
   ]
  },
  {
   "cell_type": "markdown",
   "metadata": {},
   "source": [
    "## fixed-k的整套流程"
   ]
  },
  {
   "cell_type": "code",
   "execution_count": 4,
   "metadata": {},
   "outputs": [],
   "source": [
    "def ori2rt(dataset_name: str, original_data: dict) -> dict:\n",
    "    rt_data = {}\n",
    "    for key in original_data: \n",
    "        rt_data[key] = [original_data[key]['retrieved_documents'][i]['doc_id'] for i in range(300)] if dataset_name == 'BM25' else [original_data[key][i]['doc_id'] for i in range(300)]\n",
    "    return rt_data\n",
    "\n",
    "\n",
    "def dataset_prepare(dataset_name: str) -> list:\n",
    "    # 这里不需要train\n",
    "    test_dataset_list = []\n",
    "    if dataset_name == 'BM25':\n",
    "        for i in range(1, 6):\n",
    "            with open('../data_prep/BM25_results/split_{}/BM25_test_s{}.pkl'.format(i, i), 'rb') as f: test_dataset_list.append(pickle.load(f))\n",
    "            test_dataset_list[-1] = ori2rt('BM25', test_dataset_list[-1])\n",
    "    else:\n",
    "        for i in range(1, 6):\n",
    "            with open('../data_prep/drmm_results/split_{}/drmm_test_s{}.pkl'.format(i, i), 'rb') as f: test_dataset_list.append(pickle.load(f))\n",
    "            test_dataset_list[-1] = ori2rt('DRMM', test_dataset_list[-1])\n",
    "    return test_dataset_list\n",
    "\n",
    "\n",
    "def test_scores(dataset: dict, gt: dict, k: list) -> float:\n",
    "    F1_test, DCG_test, NDCG_test = [], [], []\n",
    "    for key in dataset:\n",
    "        N_D = sum(dataset[key][i] in gt[key] for i in range(300))\n",
    "        F1_test.append(cal_F1(dataset[key], key, min(k[0] + 1, 300), N_D))\n",
    "        DCG_test.append(cal_DCG(dataset[key], key, min(k[1] + 1, 300), N_D))\n",
    "        NDCG_test.append(cal_DCG(dataset[key], key, min(k[2] + 1, 300), N_D, penalty=-0.78, normalized=True))\n",
    "    F1, DCG, NDCG = np.mean(F1_test), np.mean(DCG_test), np.mean(NDCG_test)\n",
    "    return F1, DCG, NDCG\n",
    "\n",
    "\n",
    "def k_fold(dataset_name: str, fixed_k=50) -> float:\n",
    "    test_dataset_list = dataset_prepare(dataset_name)\n",
    "    # 在测试集上得到对应于固定k的结果列表\n",
    "    F1_score_list, DCG_score_list, NDCG_score_list = [], [], []\n",
    "    for dataset in test_dataset_list:\n",
    "        results = test_scores(dataset, gt, [fixed_k - 1] * 3)\n",
    "        F1_score_list.append(results[0])\n",
    "        DCG_score_list.append(results[1])\n",
    "        NDCG_score_list.append(results[2])\n",
    "    return np.mean(F1_score_list), np.mean(DCG_score_list), np.mean(NDCG_score_list)"
   ]
  },
  {
   "cell_type": "markdown",
   "metadata": {},
   "source": [
    "## BM25和DRMM的fixed-k结果"
   ]
  },
  {
   "cell_type": "code",
   "execution_count": 5,
   "metadata": {},
   "outputs": [
    {
     "name": "stdout",
     "output_type": "stream",
     "text": [
      "BM25 k = 5: (0.17474618534792546, 1.0747526914281167, 0.06382077566452259)\n",
      "BM25 k = 10: (0.24860544368215973, 1.489767906670021, -0.30712395236274276)\n",
      "BM25 k = 50: (0.2922332254375074, 1.7999268124946117, 2.9727567739747025)\n"
     ]
    }
   ],
   "source": [
    "print('BM25 k = 5: {}'.format(k_fold('BM25', 5)))\n",
    "print('BM25 k = 10: {}'.format(k_fold('BM25', 10)))\n",
    "print('BM25 k = 50: {}'.format(k_fold('BM25', 50)))"
   ]
  },
  {
   "cell_type": "code",
   "execution_count": 6,
   "metadata": {},
   "outputs": [
    {
     "name": "stdout",
     "output_type": "stream",
     "text": [
      "DRMM k = 5: (0.19574095035753317, 1.1092058369577242, 0.09973587877810637)\n",
      "DRMM k = 10: (0.26104689301570955, 1.5333460982847114, -0.02948479582395295)\n",
      "DRMM k = 50: (0.29725099683536305, 1.778329941465822, 3.044619810537594)\n"
     ]
    }
   ],
   "source": [
    "print('DRMM k = 5: {}'.format(k_fold('DRMM', 5)))\n",
    "print('DRMM k = 10: {}'.format(k_fold('DRMM', 10)))\n",
    "print('DRMM k = 50: {}'.format(k_fold('DRMM', 50)))"
   ]
  },
  {
   "cell_type": "code",
   "execution_count": null,
   "metadata": {},
   "outputs": [],
   "source": []
  }
 ],
 "metadata": {
  "kernelspec": {
   "display_name": "Python 3",
   "language": "python",
   "name": "python3"
  },
  "language_info": {
   "codemirror_mode": {
    "name": "ipython",
    "version": 3
   },
   "file_extension": ".py",
   "mimetype": "text/x-python",
   "name": "python",
   "nbconvert_exporter": "python",
   "pygments_lexer": "ipython3",
   "version": "3.6.10"
  }
 },
 "nbformat": 4,
 "nbformat_minor": 2
}
