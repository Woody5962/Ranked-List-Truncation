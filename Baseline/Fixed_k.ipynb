{
 "cells": [
  {
   "cell_type": "code",
   "execution_count": 1,
   "metadata": {},
   "outputs": [],
   "source": [
    "import math\n",
    "import pickle\n",
    "import numpy as np\n",
    "import matplotlib.pyplot as plt"
   ]
  },
  {
   "cell_type": "markdown",
   "metadata": {},
   "source": [
    "## 工作路径"
   ]
  },
  {
   "cell_type": "code",
   "execution_count": 3,
   "metadata": {},
   "outputs": [],
   "source": [
    "DATASET_BASE = '/home/LAB/wangd/graduation_project/ranked list truncation/dataset'"
   ]
  },
  {
   "cell_type": "markdown",
   "metadata": {},
   "source": [
    "## 评估函数 "
   ]
  },
  {
   "cell_type": "code",
   "execution_count": 4,
   "metadata": {},
   "outputs": [
    {
     "data": {
      "text/plain": [
       "448"
      ]
     },
     "execution_count": 4,
     "metadata": {},
     "output_type": "execute_result"
    }
   ],
   "source": [
    "# 导入ground truth\n",
    "with open('{}/robust04_gt.pkl'.format(DATASET_BASE), 'rb') as f:\n",
    "    gt = pickle.load(f)\n",
    "    for key in gt: gt[key] = set(gt[key])\n",
    "len(gt['301'])"
   ]
  },
  {
   "cell_type": "code",
   "execution_count": 14,
   "metadata": {},
   "outputs": [],
   "source": [
    "def cal_F1(ranked_list: list, k: int) -> float:\n",
    "    \"\"\"\n",
    "    计算F1 score\n",
    "    k: 截断到第k个，从1计数\n",
    "    \"\"\"\n",
    "    count, N_D = sum(ranked_list[:k]), sum(ranked_list)\n",
    "    p_k = count / k if k != 0 else 0\n",
    "    r_k = (count / N_D) if N_D != 0 else 0\n",
    "    return (2 * p_k * r_k / (p_k + r_k)) if p_k + r_k != 0 else 0\n",
    "\n",
    "\n",
    "def cal_DCG(ranked_list: list, k: int, penalty=-1) -> float:\n",
    "    \"\"\"\n",
    "    计算DCG\n",
    "    \"\"\"\n",
    "    value = 0\n",
    "    for i in range(k): \n",
    "        value += (1 / math.log(i + 2, 2)) if ranked_list[i] else (penalty / math.log(i + 2, 2))\n",
    "    return value"
   ]
  },
  {
   "cell_type": "markdown",
   "metadata": {},
   "source": [
    "## fixed-k的整套流程"
   ]
  },
  {
   "cell_type": "code",
   "execution_count": 17,
   "metadata": {},
   "outputs": [],
   "source": [
    "def dataset_prepare(dataset_name: str) -> list:\n",
    "    # 这里不需要train\n",
    "    with open('{}/{}_test.pkl'.format(DATASET_BASE, dataset_name), 'rb') as f:\n",
    "        test_data = pickle.load(f)\n",
    "    rl_data = {}\n",
    "    for key in test_data: \n",
    "        rl_data[key] = list(map(lambda x: 1 if x in gt[key] else 0, test_data[key].keys()))\n",
    "    return rl_data\n",
    "\n",
    "\n",
    "def test_scores(dataset_name: str, k: list) -> float:\n",
    "    dataset = dataset_prepare(dataset_name)\n",
    "    F1_test, DCG_test = [], []\n",
    "    for key in dataset:\n",
    "        F1_test.append(cal_F1(dataset[key], k[0]))\n",
    "        DCG_test.append(cal_DCG(dataset[key], k[1]))\n",
    "    F1, DCG = np.mean(F1_test), np.mean(DCG_test)\n",
    "    return F1, DCG"
   ]
  },
  {
   "cell_type": "markdown",
   "metadata": {},
   "source": [
    "## Fixed-k结果"
   ]
  },
  {
   "cell_type": "code",
   "execution_count": 18,
   "metadata": {},
   "outputs": [
    {
     "name": "stdout",
     "output_type": "stream",
     "text": [
      "BM25 k = 5: (0.21689113823696973, 0.12490687197930528)\n",
      "BM25 k = 10: (0.2767588393659435, -0.35275920060181265)\n",
      "BM25 k = 50: (0.2916372147309367, -5.546589431773338)\n"
     ]
    }
   ],
   "source": [
    "print('BM25 k = 5: {}'.format(test_scores('bm25', gt, [5]*2)))\n",
    "print('BM25 k = 10: {}'.format(test_scores('bm25', gt, [10]*2)))\n",
    "print('BM25 k = 50: {}'.format(test_scores('bm25', gt, [50]*2)))"
   ]
  },
  {
   "cell_type": "code",
   "execution_count": 19,
   "metadata": {},
   "outputs": [
    {
     "name": "stdout",
     "output_type": "stream",
     "text": [
      "DRMM k = 5: (0.19738517287426238, 0.24618597771981257)\n",
      "DRMM k = 10: (0.2619403550629597, -0.20228091950106403)\n",
      "DRMM k = 50: (0.29643726947393373, -5.085496368879661)\n"
     ]
    }
   ],
   "source": [
    "print('DRMM k = 5: {}'.format(test_scores('drmm', gt, [5]*2)))\n",
    "print('DRMM k = 10: {}'.format(test_scores('drmm', gt, [10]*2)))\n",
    "print('DRMM k = 50: {}'.format(test_scores('drmm', gt, [50]*2)))"
   ]
  },
  {
   "cell_type": "code",
   "execution_count": 20,
   "metadata": {},
   "outputs": [
    {
     "name": "stdout",
     "output_type": "stream",
     "text": [
      "DRMM-TKS k = 5: (0.20102252363081768, 2.8051911421233)\n",
      "DRMM-TKS k = 10: (0.34098495770312615, 4.234743781053166)\n",
      "DRMM-TKS k = 50: (0.6276142077551684, 7.6007801135598845)\n"
     ]
    }
   ],
   "source": [
    "print('DRMM-TKS k = 5: {}'.format(test_scores('drmm_tks', gt, [5]*2)))\n",
    "print('DRMM-TKS k = 10: {}'.format(test_scores('drmm_tks', gt, [10]*2)))\n",
    "print('DRMM-TKS k = 50: {}'.format(test_scores('drmm_tks', gt, [50]*2)))"
   ]
  },
  {
   "cell_type": "code",
   "execution_count": null,
   "metadata": {},
   "outputs": [],
   "source": []
  }
 ],
 "metadata": {
  "kernelspec": {
   "display_name": "Python [conda env:ML] *",
   "language": "python",
   "name": "conda-env-ML-py"
  },
  "language_info": {
   "name": "python",
   "version": ""
  }
 },
 "nbformat": 4,
 "nbformat_minor": 2
}