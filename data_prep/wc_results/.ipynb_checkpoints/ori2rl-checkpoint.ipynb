{
 "cells": [
  {
   "cell_type": "markdown",
   "metadata": {},
   "source": [
    "# 将原始的数据转化为程序方便使用的json格式"
   ]
  },
  {
   "cell_type": "code",
   "execution_count": 1,
   "metadata": {},
   "outputs": [],
   "source": [
    "import pickle\n",
    "import pandas as pd"
   ]
  },
  {
   "cell_type": "code",
   "execution_count": 4,
   "metadata": {},
   "outputs": [],
   "source": [
    "bm25_train = {}\n",
    "with open('./bm25_200_top300_formated', 'r') as f:\n",
    "    for line in f:\n",
    "        line = line.split()\n",
    "        query_id, results = line[0], line[1:]\n",
    "        bm25_train[query_id], i = {}, 0\n",
    "        while i < len(results):\n",
    "            bm25_train[query_id][results[i]] = float(results[i+1])\n",
    "            i += 2"
   ]
  },
  {
   "cell_type": "code",
   "execution_count": 5,
   "metadata": {},
   "outputs": [],
   "source": [
    "bm25_test = {}\n",
    "with open('./bm25_last50_formated', 'r') as f:\n",
    "    for line in f:\n",
    "        line = line.split()\n",
    "        query_id, results = line[0], line[1:]\n",
    "        bm25_test[query_id], i = {}, 0\n",
    "        while i < len(results):\n",
    "            bm25_test[query_id][results[i]] = float(results[i+1])\n",
    "            i += 2"
   ]
  },
  {
   "cell_type": "code",
   "execution_count": 6,
   "metadata": {},
   "outputs": [
    {
     "data": {
      "text/plain": [
       "250"
      ]
     },
     "execution_count": 6,
     "metadata": {},
     "output_type": "execute_result"
    }
   ],
   "source": [
    "len(bm25_train) + len(bm25_test)"
   ]
  },
  {
   "cell_type": "code",
   "execution_count": 7,
   "metadata": {},
   "outputs": [],
   "source": [
    "with open('./bm25_train.pkl', 'wb') as f: pickle.dump(bm25_train, f)\n",
    "with open('./bm25_test.pkl', 'wb') as f: pickle.dump(bm25_test, f)"
   ]
  },
  {
   "cell_type": "code",
   "execution_count": 8,
   "metadata": {},
   "outputs": [],
   "source": [
    "drmm_train = {}\n",
    "with open('./fanfan_drmm_200_top300_formated', 'r') as f:\n",
    "    for line in f:\n",
    "        line = line.split()\n",
    "        query_id, results = line[0], line[1:]\n",
    "        drmm_train[query_id], i = {}, 0\n",
    "        while i < len(results):\n",
    "            drmm_train[query_id][results[i]] = float(results[i+1])\n",
    "            i += 2"
   ]
  },
  {
   "cell_type": "code",
   "execution_count": 10,
   "metadata": {},
   "outputs": [],
   "source": [
    "drmm_test = {}\n",
    "with open('./fanfan_drmm_last50_top300_formated', 'r') as f:\n",
    "    for line in f:\n",
    "        line = line.split()\n",
    "        query_id, results = line[0], line[1:]\n",
    "        drmm_test[query_id], i = {}, 0\n",
    "        while i < len(results):\n",
    "            drmm_test[query_id][results[i]] = float(results[i+1])\n",
    "            i += 2"
   ]
  },
  {
   "cell_type": "code",
   "execution_count": 11,
   "metadata": {},
   "outputs": [
    {
     "data": {
      "text/plain": [
       "250"
      ]
     },
     "execution_count": 11,
     "metadata": {},
     "output_type": "execute_result"
    }
   ],
   "source": [
    "len(drmm_train) + len(drmm_test)"
   ]
  },
  {
   "cell_type": "code",
   "execution_count": 16,
   "metadata": {},
   "outputs": [],
   "source": [
    "with open('./drmm_train.pkl', 'wb') as f: pickle.dump(drmm_train, f)\n",
    "with open('./drmm_test.pkl', 'wb') as f: pickle.dump(drmm_test, f)"
   ]
  },
  {
   "cell_type": "code",
   "execution_count": null,
   "metadata": {},
   "outputs": [],
   "source": []
  }
 ],
 "metadata": {
  "kernelspec": {
   "display_name": "Python [conda env:ML] *",
   "language": "python",
   "name": "conda-env-ML-py"
  },
  "language_info": {
   "codemirror_mode": {
    "name": "ipython",
    "version": 3
   },
   "file_extension": ".py",
   "mimetype": "text/x-python",
   "name": "python",
   "nbconvert_exporter": "python",
   "pygments_lexer": "ipython3",
   "version": "3.6.10"
  }
 },
 "nbformat": 4,
 "nbformat_minor": 4
}
